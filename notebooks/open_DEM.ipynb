{
 "cells": [
  {
   "cell_type": "code",
   "execution_count": 1,
   "metadata": {
    "collapsed": false
   },
   "outputs": [],
   "source": [
    "clf()\n",
    "from skimage import draw"
   ]
  },
  {
   "cell_type": "code",
   "execution_count": 2,
   "metadata": {
    "collapsed": false
   },
   "outputs": [],
   "source": [
    "import gdal\n",
    "from gdalconst import *\n",
    "filename = '/Users/Anya/Data/HiRISE_dems/DTEPC_022699_0985_022607_0985_A01.IMG'\n",
    "dataset = gdal.Open( filename, GA_ReadOnly )"
   ]
  },
  {
   "cell_type": "code",
   "execution_count": 3,
   "metadata": {
    "collapsed": false
   },
   "outputs": [],
   "source": [
    "if dataset is None: print 'none'"
   ]
  },
  {
   "cell_type": "code",
   "execution_count": 4,
   "metadata": {
    "collapsed": false
   },
   "outputs": [
    {
     "name": "stdout",
     "output_type": "stream",
     "text": [
      "Driver:  PDS / NASA Planetary Data System\n",
      "Size is  12767 x 6985 x 1\n",
      "Projection is  PROJCS[\"POLAR_STEREOGRAPHIC MARS\",GEOGCS[\"GCS_MARS\",DATUM[\"D_MARS\",SPHEROID[\"MARS_polarRadius\",3376200,0]],PRIMEM[\"Reference_Meridian\",0],UNIT[\"degree\",0.0174532925199433]],PROJECTION[\"Polar_Stereographic\"],PARAMETER[\"latitude_of_origin\",-90],PARAMETER[\"central_meridian\",0],PARAMETER[\"scale_factor\",1],PARAMETER[\"false_easting\",0],PARAMETER[\"false_northing\",0]]\n",
      "Origin = ( -464283.5 , 224634.5 )\n",
      "Pixel Size = ( 1.0 , -1.0 )\n"
     ]
    }
   ],
   "source": [
    "print 'Driver: ', dataset.GetDriver().ShortName,'/', \\\n",
    "          dataset.GetDriver().LongName\n",
    "print 'Size is ',dataset.RasterXSize,'x',dataset.RasterYSize, \\\n",
    "          'x',dataset.RasterCount\n",
    "print 'Projection is ',dataset.GetProjection()\n",
    "    \n",
    "geotransform = dataset.GetGeoTransform()\n",
    "if not geotransform is None:\n",
    "    print 'Origin = (',geotransform[0], ',',geotransform[3],')'\n",
    "    print 'Pixel Size = (',geotransform[1], ',',geotransform[5],')'\n"
   ]
  },
  {
   "cell_type": "code",
   "execution_count": 5,
   "metadata": {
    "collapsed": false
   },
   "outputs": [
    {
     "name": "stdout",
     "output_type": "stream",
     "text": [
      "Band Type= Float32\n",
      "DEM size: 12767 x 6985\n",
      "Min=-340282265508890445205022487695511781376.000, Max=2108.437\n"
     ]
    }
   ],
   "source": [
    "band = dataset.GetRasterBand(1)\n",
    "\n",
    "print 'Band Type=',gdal.GetDataTypeName(band.DataType)\n",
    "print 'DEM size:', band.XSize, 'x', band.YSize\n",
    "\n",
    "min = band.GetMinimum()\n",
    "max = band.GetMaximum()\n",
    "if min is None or max is None:            \n",
    "    (min,max) = band.ComputeRasterMinMax(1)        \n",
    "print 'Min=%.3f, Max=%.3f' % (min,max)\n",
    "if band.GetOverviewCount() > 0:\n",
    "    print 'Band has ', band.GetOverviewCount(), ' overviews.'\n",
    "if not band.GetRasterColorTable() is None:\n",
    "    print 'Band has a color table with ', \\\n",
    "    band.GetRasterColorTable().GetCount(), ' entries.'"
   ]
  },
  {
   "cell_type": "code",
   "execution_count": 6,
   "metadata": {
    "collapsed": false
   },
   "outputs": [],
   "source": [
    "x_start = 10\n",
    "y_start = 3000\n",
    "x_points = 12000\n",
    "y_points = 10 "
   ]
  },
  {
   "cell_type": "code",
   "execution_count": 7,
   "metadata": {
    "collapsed": false
   },
   "outputs": [],
   "source": [
    "data = band.ReadAsArray(x_start, y_start, x_points, y_points) "
   ]
  },
  {
   "cell_type": "code",
   "execution_count": 8,
   "metadata": {
    "collapsed": false
   },
   "outputs": [
    {
     "name": "stdout",
     "output_type": "stream",
     "text": [
      "(10, 12000)\n",
      "Min= nan Max= nan\n"
     ]
    }
   ],
   "source": [
    "data[data == band.GetNoDataValue()] = nan\n",
    "data[data < -6000] = nan\n",
    "print data.shape\n",
    "print 'Min=', data.min(), 'Max=', data.max()"
   ]
  },
  {
   "cell_type": "code",
   "execution_count": 9,
   "metadata": {
    "collapsed": false
   },
   "outputs": [
    {
     "data": {
      "text/plain": [
       "[<matplotlib.lines.Line2D at 0x10854e550>]"
      ]
     },
     "execution_count": 9,
     "metadata": {},
     "output_type": "execute_result"
    }
   ],
   "source": [
    "clf()\n",
    "plot(data[5,:], '*')\n",
    "#imshow(data, cmap='Paired', vmax = 1870)\n",
    "#colorbar()"
   ]
  },
  {
   "cell_type": "code",
   "execution_count": 10,
   "metadata": {
    "collapsed": false
   },
   "outputs": [],
   "source": [
    "def height_profile(x1,y1,x2,y2):\n",
    "    line_x, line_y = draw.line(x1,y1,x2,y2)\n",
    "    height = zeros(line_x.size)\n",
    "    dist = zeros(line_x.size)\n",
    "    for ind in range(line_x.size):\n",
    "        height[ind] = band.ReadAsArray(int(line_x[ind]), int(line_y[ind]), 1, 1)\n",
    "        dist[ind] = sqrt((line_x[ind] - line_x[0])**2 + (line_y[ind] - line_y[0])**2)\n",
    "    return height, dist"
   ]
  },
  {
   "cell_type": "code",
   "execution_count": 11,
   "metadata": {
    "collapsed": false
   },
   "outputs": [],
   "source": [
    "clf()"
   ]
  },
  {
   "cell_type": "code",
   "execution_count": 12,
   "metadata": {
    "collapsed": false
   },
   "outputs": [],
   "source": [
    "#RIM = [10940, 4280, 12195, 3290]\n",
    "#RIM = [8845, 4925, 9555, 4405]\n",
    "RIM = [5770, 1060, 6640, 2166] # E-W\n",
    "#RIM = [7101, 3460, 8190, 5280] # E-W\n",
    "#RIM = [5675, 4143, 7014, 3121]\n",
    "#RIM = [8079, 2330, 8880,1655]\n",
    "height, dist = height_profile(RIM[0], RIM[1], RIM[2], RIM[3])\n",
    "for nr in range(3):\n",
    "    height2, dist2 = height_profile(RIM[0]+nr,RIM[1]+nr,RIM[2]+nr,RIM[3]+nr)\n",
    "    height3, dist3 = height_profile(RIM[0]-nr,RIM[1]-nr,RIM[2]-nr,RIM[3]-nr)\n",
    "    for i in range(dist.shape[0]):     \n",
    "        height[i] = ( height[i] + height2[i] + height3[i] )/3\n",
    "c1 = 'b' #'yellow' #'black' #'blue' #'green'#'red' #'orange'\n",
    "plot(500+dist, height , 'x', color = c1)\n",
    "plot(500+dist, height , color = c1)\n",
    "xlabel('distance, m')\n",
    "ylabel('height, m')\n",
    "grid(True)"
   ]
  },
  {
   "cell_type": "code",
   "execution_count": 13,
   "metadata": {
    "collapsed": false
   },
   "outputs": [],
   "source": [
    "spiders = band.ReadAsArray(9970, 3230, 300,300)#9723, 3435, 300, 300)\n",
    "from scipy import ndimage\n",
    "mean_dem = ndimage.filters.gaussian_filter(spiders, 20, mode='nearest')\n",
    "spiders2= spiders-mean_dem"
   ]
  },
  {
   "cell_type": "code",
   "execution_count": 14,
   "metadata": {
    "collapsed": false
   },
   "outputs": [],
   "source": [
    "clf()\n",
    "imshow(spiders2[10:-10,10:-10], vmax = 0)#1890)\n",
    "bar=colorbar()\n",
    "bar.set_label('height, m')\n",
    "xlabel('distance, m')\n",
    "ylabel('distance, m')\n",
    "rcParams.update({'font.size': 22})\n"
   ]
  },
  {
   "cell_type": "code",
   "execution_count": 15,
   "metadata": {
    "collapsed": false
   },
   "outputs": [],
   "source": [
    "x, y = np.mgrid[0:data.shape[0], 0:data.shape[1]]\n",
    "\n",
    "#from mayavi import mlab\n",
    "#s = mlab.mesh(x, y, data)"
   ]
  },
  {
   "cell_type": "code",
   "execution_count": 16,
   "metadata": {
    "collapsed": false
   },
   "outputs": [],
   "source": [
    "def gaussianFilter(sizex,sizey=None,scale=0.333):\n",
    "    '''\n",
    "    Generate and return a 2D Gaussian function\n",
    "    of dimensions (sizex,sizey)\n",
    "\n",
    "    If sizey is not set, it defaults to sizex\n",
    "    A scale can be defined to widen the function (default = 0.333)\n",
    "    '''\n",
    "    sizey = sizey or sizex\n",
    "    x, y = np.mgrid[-sizex:sizex+1, -sizey:sizey+1]\n",
    "    g = np.exp(-scale*(x**2/float(sizex)+y**2/float(sizey)))\n",
    "    return g/g.sum()"
   ]
  },
  {
   "cell_type": "code",
   "execution_count": 17,
   "metadata": {
    "collapsed": false
   },
   "outputs": [],
   "source": [
    "#alternative aspect calculation\n",
    "def grad2d(dem):\n",
    "    '''\n",
    "    Calculate the slope and gradient of a DEM\n",
    "    '''\n",
    "    from scipy import signal\n",
    "    f0 = gaussianFilter(3)\n",
    "    I = signal.convolve(dem,f0,mode='valid')\n",
    "    f1 = np.array([[-1,0,1],[-2,0,2],[-1,0,1]])\n",
    "    f2 = f1.transpose()\n",
    "    g1 = signal.convolve(I,f1,mode='valid')\n",
    "    g2 = signal.convolve(I,f2,mode='valid')\n",
    "    slope = sqrt(g1**2 + g2**2)\n",
    "    aspect = np.arctan2(g2,g1)\n",
    "    return slope, aspect"
   ]
  },
  {
   "cell_type": "code",
   "execution_count": 18,
   "metadata": {
    "collapsed": false
   },
   "outputs": [],
   "source": [
    "slope,  aspect = grad2d(data)"
   ]
  },
  {
   "cell_type": "code",
   "execution_count": 19,
   "metadata": {
    "collapsed": false
   },
   "outputs": [
    {
     "data": {
      "text/plain": [
       "(nan, nan)"
      ]
     },
     "execution_count": 19,
     "metadata": {},
     "output_type": "execute_result"
    }
   ],
   "source": [
    "degrees(aspect.max()+pi), degrees(aspect.min()+pi)"
   ]
  },
  {
   "cell_type": "code",
   "execution_count": 20,
   "metadata": {
    "collapsed": false
   },
   "outputs": [],
   "source": [
    "#figure(1)\n",
    "#clf()\n",
    "#imshow(degrees(aspect+pi), cmap='gray')\n",
    "#colorbar()"
   ]
  },
  {
   "cell_type": "code",
   "execution_count": 21,
   "metadata": {
    "collapsed": false
   },
   "outputs": [
    {
     "name": "stdout",
     "output_type": "stream",
     "text": [
      "(10, 12000)\n",
      "Min= nan Max= nan\n"
     ]
    }
   ],
   "source": [
    "#open slope map created by gdaldem\n",
    "slope_file = \"/Users/Anya/Data/HiRISE_dems/DTEPC_022699_0985_022607_0985_A01_SLOPE.TIFF\"\n",
    "slope_dataset = gdal.Open( slope_file, GA_ReadOnly )\n",
    "if slope_dataset is None: print 'none'\n",
    "slope_band = slope_dataset.GetRasterBand(1)\n",
    "slope_data = slope_band.ReadAsArray(x_start, y_start, x_points, y_points)\n",
    "slope_data[slope_data == slope_band.GetNoDataValue()] = nan\n",
    "print slope_data.shape\n",
    "print 'Min=', slope_data.min(), 'Max=', slope_data.max()"
   ]
  },
  {
   "cell_type": "code",
   "execution_count": 22,
   "metadata": {
    "collapsed": false
   },
   "outputs": [],
   "source": [
    "slope_spiders = slope_band.ReadAsArray(9970, 3230, 300,300)"
   ]
  },
  {
   "cell_type": "code",
   "execution_count": 23,
   "metadata": {
    "collapsed": false
   },
   "outputs": [
    {
     "data": {
      "text/plain": [
       "<matplotlib.colorbar.Colorbar instance at 0x115bac050>"
      ]
     },
     "execution_count": 23,
     "metadata": {},
     "output_type": "execute_result"
    }
   ],
   "source": [
    "figure(2)\n",
    "clf()\n",
    "imshow((slope_spiders))\n",
    "colorbar()"
   ]
  },
  {
   "cell_type": "code",
   "execution_count": 24,
   "metadata": {
    "collapsed": false
   },
   "outputs": [
    {
     "name": "stdout",
     "output_type": "stream",
     "text": [
      "(10, 12000)\n",
      "Min= nan Max= nan\n"
     ]
    }
   ],
   "source": [
    "#open aspect map created by gdaldem\n",
    "aspect_file = \"/Users/Anya/Data/HiRISE_dems/DTEPC_022699_0985_022607_0985_A01_ASPECT.TIFF\"\n",
    "aspect_dataset = gdal.Open( aspect_file, GA_ReadOnly )\n",
    "if aspect_dataset is None: print 'none'\n",
    "aspect_band = aspect_dataset.GetRasterBand(1)\n",
    "aspect_data = aspect_band.ReadAsArray(x_start, y_start, x_points, y_points)\n",
    "aspect_data[aspect_data == aspect_band.GetNoDataValue()] = nan\n",
    "print aspect_data.shape\n",
    "print 'Min=', aspect_data.min(), 'Max=', aspect_data.max()"
   ]
  },
  {
   "cell_type": "code",
   "execution_count": 25,
   "metadata": {
    "collapsed": false
   },
   "outputs": [],
   "source": [
    "#figure(3)\n",
    "#clf()\n",
    "#imshow(aspect_data, cmap='gray')\n",
    "#colorbar()"
   ]
  },
  {
   "cell_type": "code",
   "execution_count": 26,
   "metadata": {
    "collapsed": false
   },
   "outputs": [],
   "source": [
    "cone_dem = zeros(10000).reshape(100,100)\n",
    "x, y = np.mgrid[0:cone_dem.shape[0], 0:cone_dem.shape[1]]\n",
    "center_x=20\n",
    "center_y=50\n",
    "top = sqrt((center_x - (center_x+1))**2+(center_y - (center_y+1))**2)+1\n",
    "diam = 10\n",
    "for x2 in range(center_x-diam, center_x+diam):\n",
    "    for y2 in range(center_y-diam, center_y+diam): cone_dem[x2, y2] = top - sqrt((center_x - x2)**2+(center_y - y2)**2)"
   ]
  },
  {
   "cell_type": "code",
   "execution_count": 27,
   "metadata": {
    "collapsed": false
   },
   "outputs": [],
   "source": [
    "#open complete DEM\n",
    "x = band.XSize\n",
    "y = band.YSize\n",
    "#define nr of 100*100 sub-frames\n",
    "subframe_x_size = 100\n",
    "subframe_y_size = 100\n",
    "overlap = 20\n",
    "nr_x = (x - overlap)//subframe_x_size\n",
    "nr_y = (y - overlap)//subframe_y_size\n",
    "ix = range(overlap, x, subframe_x_size)\n",
    "iy = range(overlap, y, subframe_y_size)\n"
   ]
  },
  {
   "cell_type": "code",
   "execution_count": 46,
   "metadata": {
    "collapsed": false
   },
   "outputs": [
    {
     "name": "stdout",
     "output_type": "stream",
     "text": [
      "(100, 100)\n",
      "(100, 100)\n",
      "(100, 100)\n",
      "(100, 100)\n",
      "(100, 100)\n",
      "(100, 100)\n",
      "(100, 100)\n",
      "(100, 100)\n",
      "(100, 100)\n",
      "(100, 100)\n",
      "(100, 100)\n",
      "(100, 100)\n",
      "(100, 100)\n",
      "(100, 100)\n",
      "(100, 100)\n",
      "(100, 100)\n",
      "(100, 100)\n",
      "(100, 100)\n",
      "(100, 100)\n",
      "(100, 100)\n",
      "(100, 100)\n",
      "(100, 100)\n",
      "(100, 100)\n",
      "(100, 100)\n",
      "(100, 100)\n",
      "(100, 100)\n",
      "(100, 100)\n",
      "(100, 100)\n",
      "(100, 100)\n",
      "(100, 100)\n",
      "(100, 100)\n",
      "(100, 100)\n",
      "(100, 100)\n",
      "(100, 100)\n",
      "(100, 100)\n",
      "(100, 100)\n",
      "(100, 100)\n",
      "(100, 100)\n",
      "(100, 100)\n",
      "(100, 100)\n",
      "(100, 100)\n",
      "(100, 100)\n",
      "(100, 100)\n",
      "(100, 100)\n",
      "(100, 100)\n",
      "(100, 100)\n",
      "(100, 100)\n",
      "(100, 100)\n",
      "(100, 100)\n",
      "(100, 100)\n",
      "(100, 100)\n",
      "(100, 100)\n",
      "(100, 100)\n",
      "(100, 100)\n",
      "(100, 100)\n",
      "(100, 100)\n",
      "(100, 100)\n",
      "(100, 100)\n",
      "(100, 100)\n",
      "(100, 100)\n",
      "(100, 100)\n",
      "(100, 100)\n",
      "(100, 100)\n",
      "(100, 100)\n",
      "(100, 100)\n",
      "(100, 100)\n",
      "(100, 100)\n",
      "(100, 100)\n",
      "(100, 100)\n",
      "(100, 100)\n",
      "(100, 100)\n",
      "(100, 100)\n",
      "(100, 100)\n",
      "(100, 100)\n",
      "(100, 100)\n",
      "(100, 100)\n",
      "(100, 100)\n",
      "(100, 100)\n",
      "(100, 100)\n",
      "(100, 100)\n",
      "(100, 100)\n",
      "(100, 100)\n",
      "(100, 100)\n",
      "(100, 100)\n",
      "(100, 100)\n",
      "(100, 100)\n",
      "(100, 100)\n",
      "(100, 100)\n",
      "(100, 100)\n",
      "(100, 100)\n",
      "(100, 100)\n",
      "(100, 100)\n",
      "(100, 100)\n",
      "(100, 100)\n",
      "(100, 100)\n",
      "(100, 100)\n",
      "(100, 100)\n",
      "(100, 100)\n",
      "(100, 100)\n",
      "(100, 100)\n",
      "(100, 100)\n",
      "(100, 100)\n",
      "(100, 100)\n",
      "(100, 100)\n",
      "(100, 100)\n",
      "(100, 100)\n",
      "(100, 100)\n",
      "(100, 100)\n",
      "(100, 100)\n",
      "(100, 100)\n",
      "(100, 100)\n",
      "(100, 100)\n",
      "(100, 100)\n",
      "(100, 100)\n",
      "(100, 100)\n",
      "(100, 100)\n",
      "(100, 100)\n",
      "(100, 100)\n",
      "(100, 100)\n",
      "(100, 100)\n",
      "(100, 100)\n",
      "(100, 100)\n",
      "(100, 100)\n",
      "(100, 100)\n",
      "(100, 100)\n",
      "(100, 100)\n"
     ]
    }
   ],
   "source": [
    "clf()\n",
    "for i in range(nr_x): #nrx):\n",
    "    for j in range(nr_y): #nry):\n",
    "        out_file = 'DEM' + '_LH_atPointX'+ str(ix[i]) +'Y'+ str(iy[j])+'-size-'+str(subframe_x_size)+'by'+str(subframe_y_size)\n",
    "        \n",
    "        if (ix[i]+subframe_x_size > x): # - check f the last frame not getting out of complete DEM array\n",
    "            subframe_x_size_last = int(x - ix[i]-1)\n",
    "        else:\n",
    "            subframe_x_size_last = subframe_x_size\n",
    "        if (iy[j]+subframe_y_size > y): \n",
    "            subframe_y_size_last = int(y - iy[j]-1)\n",
    "        else:\n",
    "            subframe_y_size_last = subframe_y_size\n",
    "        \n",
    "        DEM_subframe = band.ReadAsArray(ix[i], iy[j], subframe_x_size_last, subframe_y_size_last)\n",
    "        DEM_subframe[where(DEM_subframe < -10e20)] = nan\n",
    "        \n",
    "        if (-isnan(DEM_subframe)).all():\n",
    "            #print DEM_subframe.shape\n",
    "            imshow(DEM_subframe)\n",
    "            colorbar()\n",
    "            break"
   ]
  },
  {
   "cell_type": "code",
   "execution_count": 43,
   "metadata": {
    "collapsed": false
   },
   "outputs": [
    {
     "data": {
      "text/plain": [
       "True"
      ]
     },
     "execution_count": 43,
     "metadata": {},
     "output_type": "execute_result"
    }
   ],
   "source": [
    "-isnan(DEM_subframe).any()"
   ]
  },
  {
   "cell_type": "code",
   "execution_count": 34,
   "metadata": {
    "collapsed": false
   },
   "outputs": [],
   "source": [
    "reshape?"
   ]
  },
  {
   "cell_type": "code",
   "execution_count": null,
   "metadata": {
    "collapsed": false
   },
   "outputs": [],
   "source": []
  }
 ],
 "metadata": {
  "kernelspec": {
   "display_name": "Python 2",
   "language": "python",
   "name": "python2"
  },
  "language_info": {
   "codemirror_mode": {
    "name": "ipython",
    "version": 2
   },
   "file_extension": ".py",
   "mimetype": "text/x-python",
   "name": "python",
   "nbconvert_exporter": "python",
   "pygments_lexer": "ipython2",
   "version": "2.7.10"
  }
 },
 "nbformat": 4,
 "nbformat_minor": 0
}
