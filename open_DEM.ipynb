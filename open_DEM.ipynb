{
 "metadata": {
  "name": "open_DEM"
 },
 "nbformat": 3,
 "nbformat_minor": 0,
 "worksheets": [
  {
   "cells": [
    {
     "cell_type": "code",
     "collapsed": false,
     "input": [
      "clf()\n",
      "from skimage import draw"
     ],
     "language": "python",
     "metadata": {},
     "outputs": [],
     "prompt_number": 1
    },
    {
     "cell_type": "code",
     "collapsed": false,
     "input": [
      "import gdal\n",
      "from gdalconst import *\n",
      "filename = '/Users/Anya/Data/HiRISE_dems/DTEPC_022699_0985_022607_0985_A01.IMG'\n",
      "dataset = gdal.Open( filename, GA_ReadOnly )"
     ],
     "language": "python",
     "metadata": {},
     "outputs": [],
     "prompt_number": 2
    },
    {
     "cell_type": "code",
     "collapsed": false,
     "input": [
      "if dataset is None: print 'none'"
     ],
     "language": "python",
     "metadata": {},
     "outputs": [],
     "prompt_number": 3
    },
    {
     "cell_type": "code",
     "collapsed": false,
     "input": [
      "print 'Driver: ', dataset.GetDriver().ShortName,'/', \\\n",
      "          dataset.GetDriver().LongName\n",
      "print 'Size is ',dataset.RasterXSize,'x',dataset.RasterYSize, \\\n",
      "          'x',dataset.RasterCount\n",
      "print 'Projection is ',dataset.GetProjection()\n",
      "    \n",
      "geotransform = dataset.GetGeoTransform()\n",
      "if not geotransform is None:\n",
      "    print 'Origin = (',geotransform[0], ',',geotransform[3],')'\n",
      "    print 'Pixel Size = (',geotransform[1], ',',geotransform[5],')'\n"
     ],
     "language": "python",
     "metadata": {},
     "outputs": [
      {
       "output_type": "stream",
       "stream": "stdout",
       "text": [
        "Driver:  PDS / NASA Planetary Data System\n",
        "Size is  12767 x 6985 x 1\n",
        "Projection is  PROJCS[\"POLAR_STEREOGRAPHIC MARS\",GEOGCS[\"GCS_MARS\",DATUM[\"D_MARS\",SPHEROID[\"MARS_polarRadius\",3376200,0]],PRIMEM[\"Reference_Meridian\",0],UNIT[\"degree\",0.0174532925199433]],PROJECTION[\"Polar_Stereographic\"],PARAMETER[\"latitude_of_origin\",-90],PARAMETER[\"central_meridian\",0],PARAMETER[\"scale_factor\",1],PARAMETER[\"false_easting\",0],PARAMETER[\"false_northing\",0]]\n",
        "Origin = ( -464283.5 , 224634.5 )\n",
        "Pixel Size = ( 1.0 , -1.0 )\n"
       ]
      }
     ],
     "prompt_number": 4
    },
    {
     "cell_type": "code",
     "collapsed": false,
     "input": [
      "band = dataset.GetRasterBand(1)\n",
      "\n",
      "print 'Band Type=',gdal.GetDataTypeName(band.DataType)\n",
      "print 'DEM size:', band.XSize, 'x', band.YSize\n",
      "\n",
      "min = band.GetMinimum()\n",
      "max = band.GetMaximum()\n",
      "if min is None or max is None:            \n",
      "    (min,max) = band.ComputeRasterMinMax(1)        \n",
      "print 'Min=%.3f, Max=%.3f' % (min,max)\n",
      "if band.GetOverviewCount() > 0:\n",
      "    print 'Band has ', band.GetOverviewCount(), ' overviews.'\n",
      "if not band.GetRasterColorTable() is None:\n",
      "    print 'Band has a color table with ', \\\n",
      "    band.GetRasterColorTable().GetCount(), ' entries.'"
     ],
     "language": "python",
     "metadata": {},
     "outputs": [
      {
       "output_type": "stream",
       "stream": "stdout",
       "text": [
        "Band Type= Float32\n",
        "DEM size: 12767 x 6985\n",
        "Min=-340282265508890445205022487695511781376.000, Max=2108.437\n"
       ]
      }
     ],
     "prompt_number": 5
    },
    {
     "cell_type": "code",
     "collapsed": false,
     "input": [
      "x_start = 10\n",
      "y_start = 3000\n",
      "x_points = 12000\n",
      "y_points = 10 "
     ],
     "language": "python",
     "metadata": {},
     "outputs": [],
     "prompt_number": 6
    },
    {
     "cell_type": "code",
     "collapsed": false,
     "input": [
      "data = band.ReadAsArray(x_start, y_start, x_points, y_points) "
     ],
     "language": "python",
     "metadata": {},
     "outputs": [],
     "prompt_number": 7
    },
    {
     "cell_type": "code",
     "collapsed": false,
     "input": [
      "data[data == band.GetNoDataValue()] = nan\n",
      "data[data < -6000] = nan\n",
      "print data.shape\n",
      "print 'Min=', data.min(), 'Max=', data.max()"
     ],
     "language": "python",
     "metadata": {},
     "outputs": [
      {
       "output_type": "stream",
       "stream": "stdout",
       "text": [
        "(10, 12000)\n",
        "Min= nan Max= nan\n"
       ]
      }
     ],
     "prompt_number": 8
    },
    {
     "cell_type": "code",
     "collapsed": false,
     "input": [
      "clf()\n",
      "plot(data[5,:], '*')\n",
      "#imshow(data, cmap='Paired', vmax = 1870)\n",
      "#colorbar()"
     ],
     "language": "python",
     "metadata": {},
     "outputs": [
      {
       "output_type": "pyout",
       "prompt_number": 9,
       "text": [
        "[<matplotlib.lines.Line2D at 0x10854e550>]"
       ]
      }
     ],
     "prompt_number": 9
    },
    {
     "cell_type": "code",
     "collapsed": false,
     "input": [
      "def height_profile(x1,y1,x2,y2):\n",
      "    line_x, line_y = draw.line(x1,y1,x2,y2)\n",
      "    height = zeros(line_x.size)\n",
      "    dist = zeros(line_x.size)\n",
      "    for ind in range(line_x.size):\n",
      "        height[ind] = band.ReadAsArray(int(line_x[ind]), int(line_y[ind]), 1, 1)\n",
      "        dist[ind] = sqrt((line_x[ind] - line_x[0])**2 + (line_y[ind] - line_y[0])**2)\n",
      "    return height, dist"
     ],
     "language": "python",
     "metadata": {},
     "outputs": [],
     "prompt_number": 10
    },
    {
     "cell_type": "code",
     "collapsed": false,
     "input": [
      "clf()"
     ],
     "language": "python",
     "metadata": {},
     "outputs": [],
     "prompt_number": 11
    },
    {
     "cell_type": "code",
     "collapsed": false,
     "input": [
      "#RIM = [10940, 4280, 12195, 3290]\n",
      "#RIM = [8845, 4925, 9555, 4405]\n",
      "RIM = [5770, 1060, 6640, 2166] # E-W\n",
      "#RIM = [7101, 3460, 8190, 5280] # E-W\n",
      "#RIM = [5675, 4143, 7014, 3121]\n",
      "#RIM = [8079, 2330, 8880,1655]\n",
      "height, dist = height_profile(RIM[0], RIM[1], RIM[2], RIM[3])\n",
      "for nr in range(3):\n",
      "    height2, dist2 = height_profile(RIM[0]+nr,RIM[1]+nr,RIM[2]+nr,RIM[3]+nr)\n",
      "    height3, dist3 = height_profile(RIM[0]-nr,RIM[1]-nr,RIM[2]-nr,RIM[3]-nr)\n",
      "    for i in range(dist.shape[0]):     \n",
      "        height[i] = ( height[i] + height2[i] + height3[i] )/3\n",
      "c1 = 'b' #'yellow' #'black' #'blue' #'green'#'red' #'orange'\n",
      "plot(500+dist, height , 'x', color = c1)\n",
      "plot(500+dist, height , color = c1)\n",
      "xlabel('distance, m')\n",
      "ylabel('height, m')\n",
      "grid(True)"
     ],
     "language": "python",
     "metadata": {},
     "outputs": [],
     "prompt_number": 12
    },
    {
     "cell_type": "code",
     "collapsed": false,
     "input": [
      "spiders = band.ReadAsArray(9970, 3230, 300,300)#9723, 3435, 300, 300)\n",
      "from scipy import ndimage\n",
      "mean_dem = ndimage.filters.gaussian_filter(spiders, 20, mode='nearest')\n",
      "spiders2= spiders-mean_dem"
     ],
     "language": "python",
     "metadata": {},
     "outputs": [],
     "prompt_number": 13
    },
    {
     "cell_type": "code",
     "collapsed": false,
     "input": [
      "clf()\n",
      "imshow(spiders2[10:-10,10:-10], vmax = 0)#1890)\n",
      "bar=colorbar()\n",
      "bar.set_label('height, m')\n",
      "xlabel('distance, m')\n",
      "ylabel('distance, m')\n",
      "rcParams.update({'font.size': 22})\n"
     ],
     "language": "python",
     "metadata": {},
     "outputs": [],
     "prompt_number": 14
    },
    {
     "cell_type": "code",
     "collapsed": false,
     "input": [
      "x, y = np.mgrid[0:data.shape[0], 0:data.shape[1]]\n",
      "\n",
      "#from mayavi import mlab\n",
      "#s = mlab.mesh(x, y, data)"
     ],
     "language": "python",
     "metadata": {},
     "outputs": [],
     "prompt_number": 15
    },
    {
     "cell_type": "code",
     "collapsed": false,
     "input": [
      "def gaussianFilter(sizex,sizey=None,scale=0.333):\n",
      "    '''\n",
      "    Generate and return a 2D Gaussian function\n",
      "    of dimensions (sizex,sizey)\n",
      "\n",
      "    If sizey is not set, it defaults to sizex\n",
      "    A scale can be defined to widen the function (default = 0.333)\n",
      "    '''\n",
      "    sizey = sizey or sizex\n",
      "    x, y = np.mgrid[-sizex:sizex+1, -sizey:sizey+1]\n",
      "    g = np.exp(-scale*(x**2/float(sizex)+y**2/float(sizey)))\n",
      "    return g/g.sum()"
     ],
     "language": "python",
     "metadata": {},
     "outputs": [],
     "prompt_number": 16
    },
    {
     "cell_type": "code",
     "collapsed": false,
     "input": [
      "#alternative aspect calculation\n",
      "def grad2d(dem):\n",
      "    '''\n",
      "    Calculate the slope and gradient of a DEM\n",
      "    '''\n",
      "    from scipy import signal\n",
      "    f0 = gaussianFilter(3)\n",
      "    I = signal.convolve(dem,f0,mode='valid')\n",
      "    f1 = np.array([[-1,0,1],[-2,0,2],[-1,0,1]])\n",
      "    f2 = f1.transpose()\n",
      "    g1 = signal.convolve(I,f1,mode='valid')\n",
      "    g2 = signal.convolve(I,f2,mode='valid')\n",
      "    slope = sqrt(g1**2 + g2**2)\n",
      "    aspect = np.arctan2(g2,g1)\n",
      "    return slope, aspect"
     ],
     "language": "python",
     "metadata": {},
     "outputs": [],
     "prompt_number": 17
    },
    {
     "cell_type": "code",
     "collapsed": false,
     "input": [
      "slope,  aspect = grad2d(data)"
     ],
     "language": "python",
     "metadata": {},
     "outputs": [],
     "prompt_number": 18
    },
    {
     "cell_type": "code",
     "collapsed": false,
     "input": [
      "degrees(aspect.max()+pi), degrees(aspect.min()+pi)"
     ],
     "language": "python",
     "metadata": {},
     "outputs": [
      {
       "output_type": "pyout",
       "prompt_number": 19,
       "text": [
        "(nan, nan)"
       ]
      }
     ],
     "prompt_number": 19
    },
    {
     "cell_type": "code",
     "collapsed": false,
     "input": [
      "#figure(1)\n",
      "#clf()\n",
      "#imshow(degrees(aspect+pi), cmap='gray')\n",
      "#colorbar()"
     ],
     "language": "python",
     "metadata": {},
     "outputs": [],
     "prompt_number": 20
    },
    {
     "cell_type": "code",
     "collapsed": false,
     "input": [
      "#open slope map created by gdaldem\n",
      "slope_file = \"/Users/Anya/Data/HiRISE_dems/DTEPC_022699_0985_022607_0985_A01_SLOPE.TIFF\"\n",
      "slope_dataset = gdal.Open( slope_file, GA_ReadOnly )\n",
      "if slope_dataset is None: print 'none'\n",
      "slope_band = slope_dataset.GetRasterBand(1)\n",
      "slope_data = slope_band.ReadAsArray(x_start, y_start, x_points, y_points)\n",
      "slope_data[slope_data == slope_band.GetNoDataValue()] = nan\n",
      "print slope_data.shape\n",
      "print 'Min=', slope_data.min(), 'Max=', slope_data.max()"
     ],
     "language": "python",
     "metadata": {},
     "outputs": [
      {
       "output_type": "stream",
       "stream": "stdout",
       "text": [
        "(10, 12000)\n",
        "Min= nan Max= nan\n"
       ]
      }
     ],
     "prompt_number": 21
    },
    {
     "cell_type": "code",
     "collapsed": false,
     "input": [
      "slope_spiders = slope_band.ReadAsArray(9970, 3230, 300,300)"
     ],
     "language": "python",
     "metadata": {},
     "outputs": [],
     "prompt_number": 22
    },
    {
     "cell_type": "code",
     "collapsed": false,
     "input": [
      "figure(2)\n",
      "clf()\n",
      "imshow((slope_spiders))\n",
      "colorbar()"
     ],
     "language": "python",
     "metadata": {},
     "outputs": [
      {
       "output_type": "pyout",
       "prompt_number": 23,
       "text": [
        "<matplotlib.colorbar.Colorbar instance at 0x115bac050>"
       ]
      }
     ],
     "prompt_number": 23
    },
    {
     "cell_type": "code",
     "collapsed": false,
     "input": [
      "#open aspect map created by gdaldem\n",
      "aspect_file = \"/Users/Anya/Data/HiRISE_dems/DTEPC_022699_0985_022607_0985_A01_ASPECT.TIFF\"\n",
      "aspect_dataset = gdal.Open( aspect_file, GA_ReadOnly )\n",
      "if aspect_dataset is None: print 'none'\n",
      "aspect_band = aspect_dataset.GetRasterBand(1)\n",
      "aspect_data = aspect_band.ReadAsArray(x_start, y_start, x_points, y_points)\n",
      "aspect_data[aspect_data == aspect_band.GetNoDataValue()] = nan\n",
      "print aspect_data.shape\n",
      "print 'Min=', aspect_data.min(), 'Max=', aspect_data.max()"
     ],
     "language": "python",
     "metadata": {},
     "outputs": [
      {
       "output_type": "stream",
       "stream": "stdout",
       "text": [
        "(10, 12000)\n",
        "Min= nan Max= nan\n"
       ]
      }
     ],
     "prompt_number": 24
    },
    {
     "cell_type": "code",
     "collapsed": false,
     "input": [
      "#figure(3)\n",
      "#clf()\n",
      "#imshow(aspect_data, cmap='gray')\n",
      "#colorbar()"
     ],
     "language": "python",
     "metadata": {},
     "outputs": [],
     "prompt_number": 25
    },
    {
     "cell_type": "code",
     "collapsed": false,
     "input": [
      "cone_dem = zeros(10000).reshape(100,100)\n",
      "x, y = np.mgrid[0:cone_dem.shape[0], 0:cone_dem.shape[1]]\n",
      "center_x=20\n",
      "center_y=50\n",
      "top = sqrt((center_x - (center_x+1))**2+(center_y - (center_y+1))**2)+1\n",
      "diam = 10\n",
      "for x2 in range(center_x-diam, center_x+diam):\n",
      "    for y2 in range(center_y-diam, center_y+diam): cone_dem[x2, y2] = top - sqrt((center_x - x2)**2+(center_y - y2)**2)"
     ],
     "language": "python",
     "metadata": {},
     "outputs": [],
     "prompt_number": 26
    },
    {
     "cell_type": "code",
     "collapsed": false,
     "input": [
      "#open complete DEM\n",
      "x = band.XSize\n",
      "y = band.YSize\n",
      "#define nr of 100*100 sub-frames\n",
      "subframe_x_size = 100\n",
      "subframe_y_size = 100\n",
      "overlap = 20\n",
      "nr_x = (x - overlap)//subframe_x_size\n",
      "nr_y = (y - overlap)//subframe_y_size\n",
      "ix = range(overlap, x, subframe_x_size)\n",
      "iy = range(overlap, y, subframe_y_size)\n"
     ],
     "language": "python",
     "metadata": {},
     "outputs": [],
     "prompt_number": 27
    },
    {
     "cell_type": "code",
     "collapsed": false,
     "input": [
      "clf()\n",
      "for i in range(nr_x): #nrx):\n",
      "    for j in range(nr_y): #nry):\n",
      "        out_file = 'DEM' + '_LH_atPointX'+ str(ix[i]) +'Y'+ str(iy[j])+'-size-'+str(subframe_x_size)+'by'+str(subframe_y_size)\n",
      "        \n",
      "        if (ix[i]+subframe_x_size > x): # - check f the last frame not getting out of complete DEM array\n",
      "            subframe_x_size_last = int(x - ix[i]-1)\n",
      "        else:\n",
      "            subframe_x_size_last = subframe_x_size\n",
      "        if (iy[j]+subframe_y_size > y): \n",
      "            subframe_y_size_last = int(y - iy[j]-1)\n",
      "        else:\n",
      "            subframe_y_size_last = subframe_y_size\n",
      "        \n",
      "        DEM_subframe = band.ReadAsArray(ix[i], iy[j], subframe_x_size_last, subframe_y_size_last)\n",
      "        DEM_subframe[where(DEM_subframe < -10e20)] = nan\n",
      "        \n",
      "        if (-isnan(DEM_subframe)).all():\n",
      "            #print DEM_subframe.shape\n",
      "            imshow(DEM_subframe)\n",
      "            colorbar()\n",
      "            break"
     ],
     "language": "python",
     "metadata": {},
     "outputs": [
      {
       "output_type": "stream",
       "stream": "stdout",
       "text": [
        "(100, 100)\n",
        "(100, 100)"
       ]
      },
      {
       "output_type": "stream",
       "stream": "stdout",
       "text": [
        "\n",
        "(100, 100)"
       ]
      },
      {
       "output_type": "stream",
       "stream": "stdout",
       "text": [
        "\n",
        "(100, 100)"
       ]
      },
      {
       "output_type": "stream",
       "stream": "stdout",
       "text": [
        "\n",
        "(100, 100)"
       ]
      },
      {
       "output_type": "stream",
       "stream": "stdout",
       "text": [
        "\n",
        "(100, 100)"
       ]
      },
      {
       "output_type": "stream",
       "stream": "stdout",
       "text": [
        "\n",
        "(100, 100)"
       ]
      },
      {
       "output_type": "stream",
       "stream": "stdout",
       "text": [
        "\n",
        "(100, 100)"
       ]
      },
      {
       "output_type": "stream",
       "stream": "stdout",
       "text": [
        "\n",
        "(100, 100)"
       ]
      },
      {
       "output_type": "stream",
       "stream": "stdout",
       "text": [
        "\n",
        "(100, 100)"
       ]
      },
      {
       "output_type": "stream",
       "stream": "stdout",
       "text": [
        "\n",
        "(100, 100)"
       ]
      },
      {
       "output_type": "stream",
       "stream": "stdout",
       "text": [
        "\n",
        "(100, 100)"
       ]
      },
      {
       "output_type": "stream",
       "stream": "stdout",
       "text": [
        "\n",
        "(100, 100)"
       ]
      },
      {
       "output_type": "stream",
       "stream": "stdout",
       "text": [
        "\n",
        "(100, 100)"
       ]
      },
      {
       "output_type": "stream",
       "stream": "stdout",
       "text": [
        "\n",
        "(100, 100)"
       ]
      },
      {
       "output_type": "stream",
       "stream": "stdout",
       "text": [
        "\n",
        "(100, 100)"
       ]
      },
      {
       "output_type": "stream",
       "stream": "stdout",
       "text": [
        "\n",
        "(100, 100)"
       ]
      },
      {
       "output_type": "stream",
       "stream": "stdout",
       "text": [
        "\n",
        "(100, 100)"
       ]
      },
      {
       "output_type": "stream",
       "stream": "stdout",
       "text": [
        "\n",
        "(100, 100)"
       ]
      },
      {
       "output_type": "stream",
       "stream": "stdout",
       "text": [
        "\n",
        "(100, 100)"
       ]
      },
      {
       "output_type": "stream",
       "stream": "stdout",
       "text": [
        "\n",
        "(100, 100)"
       ]
      },
      {
       "output_type": "stream",
       "stream": "stdout",
       "text": [
        "\n",
        "(100, 100)"
       ]
      },
      {
       "output_type": "stream",
       "stream": "stdout",
       "text": [
        "\n",
        "(100, 100)"
       ]
      },
      {
       "output_type": "stream",
       "stream": "stdout",
       "text": [
        "\n",
        "(100, 100)"
       ]
      },
      {
       "output_type": "stream",
       "stream": "stdout",
       "text": [
        "\n",
        "(100, 100)"
       ]
      },
      {
       "output_type": "stream",
       "stream": "stdout",
       "text": [
        "\n",
        "(100, 100)"
       ]
      },
      {
       "output_type": "stream",
       "stream": "stdout",
       "text": [
        "\n",
        "(100, 100)"
       ]
      },
      {
       "output_type": "stream",
       "stream": "stdout",
       "text": [
        "\n",
        "(100, 100)"
       ]
      },
      {
       "output_type": "stream",
       "stream": "stdout",
       "text": [
        "\n",
        "(100, 100)"
       ]
      },
      {
       "output_type": "stream",
       "stream": "stdout",
       "text": [
        "\n",
        "(100, 100)"
       ]
      },
      {
       "output_type": "stream",
       "stream": "stdout",
       "text": [
        "\n",
        "(100, 100)"
       ]
      },
      {
       "output_type": "stream",
       "stream": "stdout",
       "text": [
        "\n",
        "(100, 100)"
       ]
      },
      {
       "output_type": "stream",
       "stream": "stdout",
       "text": [
        "\n",
        "(100, 100)"
       ]
      },
      {
       "output_type": "stream",
       "stream": "stdout",
       "text": [
        "\n",
        "(100, 100)"
       ]
      },
      {
       "output_type": "stream",
       "stream": "stdout",
       "text": [
        "\n",
        "(100, 100)"
       ]
      },
      {
       "output_type": "stream",
       "stream": "stdout",
       "text": [
        "\n",
        "(100, 100)"
       ]
      },
      {
       "output_type": "stream",
       "stream": "stdout",
       "text": [
        "\n",
        "(100, 100)"
       ]
      },
      {
       "output_type": "stream",
       "stream": "stdout",
       "text": [
        "\n",
        "(100, 100)"
       ]
      },
      {
       "output_type": "stream",
       "stream": "stdout",
       "text": [
        "\n",
        "(100, 100)"
       ]
      },
      {
       "output_type": "stream",
       "stream": "stdout",
       "text": [
        "\n",
        "(100, 100)"
       ]
      },
      {
       "output_type": "stream",
       "stream": "stdout",
       "text": [
        "\n",
        "(100, 100)"
       ]
      },
      {
       "output_type": "stream",
       "stream": "stdout",
       "text": [
        "\n",
        "(100, 100)"
       ]
      },
      {
       "output_type": "stream",
       "stream": "stdout",
       "text": [
        "\n",
        "(100, 100)"
       ]
      },
      {
       "output_type": "stream",
       "stream": "stdout",
       "text": [
        "\n",
        "(100, 100)"
       ]
      },
      {
       "output_type": "stream",
       "stream": "stdout",
       "text": [
        "\n",
        "(100, 100)"
       ]
      },
      {
       "output_type": "stream",
       "stream": "stdout",
       "text": [
        "\n",
        "(100, 100)"
       ]
      },
      {
       "output_type": "stream",
       "stream": "stdout",
       "text": [
        "\n",
        "(100, 100)"
       ]
      },
      {
       "output_type": "stream",
       "stream": "stdout",
       "text": [
        "\n",
        "(100, 100)"
       ]
      },
      {
       "output_type": "stream",
       "stream": "stdout",
       "text": [
        "\n",
        "(100, 100)"
       ]
      },
      {
       "output_type": "stream",
       "stream": "stdout",
       "text": [
        "\n",
        "(100, 100)"
       ]
      },
      {
       "output_type": "stream",
       "stream": "stdout",
       "text": [
        "\n",
        "(100, 100)"
       ]
      },
      {
       "output_type": "stream",
       "stream": "stdout",
       "text": [
        "\n",
        "(100, 100)"
       ]
      },
      {
       "output_type": "stream",
       "stream": "stdout",
       "text": [
        "\n",
        "(100, 100)"
       ]
      },
      {
       "output_type": "stream",
       "stream": "stdout",
       "text": [
        "\n",
        "(100, 100)"
       ]
      },
      {
       "output_type": "stream",
       "stream": "stdout",
       "text": [
        "\n",
        "(100, 100)"
       ]
      },
      {
       "output_type": "stream",
       "stream": "stdout",
       "text": [
        "\n",
        "(100, 100)"
       ]
      },
      {
       "output_type": "stream",
       "stream": "stdout",
       "text": [
        "\n",
        "(100, 100)"
       ]
      },
      {
       "output_type": "stream",
       "stream": "stdout",
       "text": [
        "\n",
        "(100, 100)"
       ]
      },
      {
       "output_type": "stream",
       "stream": "stdout",
       "text": [
        "\n",
        "(100, 100)"
       ]
      },
      {
       "output_type": "stream",
       "stream": "stdout",
       "text": [
        "\n",
        "(100, 100)"
       ]
      },
      {
       "output_type": "stream",
       "stream": "stdout",
       "text": [
        "\n",
        "(100, 100)"
       ]
      },
      {
       "output_type": "stream",
       "stream": "stdout",
       "text": [
        "\n",
        "(100, 100)"
       ]
      },
      {
       "output_type": "stream",
       "stream": "stdout",
       "text": [
        "\n",
        "(100, 100)"
       ]
      },
      {
       "output_type": "stream",
       "stream": "stdout",
       "text": [
        "\n",
        "(100, 100)"
       ]
      },
      {
       "output_type": "stream",
       "stream": "stdout",
       "text": [
        "\n",
        "(100, 100)"
       ]
      },
      {
       "output_type": "stream",
       "stream": "stdout",
       "text": [
        "\n",
        "(100, 100)"
       ]
      },
      {
       "output_type": "stream",
       "stream": "stdout",
       "text": [
        "\n",
        "(100, 100)"
       ]
      },
      {
       "output_type": "stream",
       "stream": "stdout",
       "text": [
        "\n",
        "(100, 100)"
       ]
      },
      {
       "output_type": "stream",
       "stream": "stdout",
       "text": [
        "\n",
        "(100, 100)"
       ]
      },
      {
       "output_type": "stream",
       "stream": "stdout",
       "text": [
        "\n",
        "(100, 100)"
       ]
      },
      {
       "output_type": "stream",
       "stream": "stdout",
       "text": [
        "\n",
        "(100, 100)"
       ]
      },
      {
       "output_type": "stream",
       "stream": "stdout",
       "text": [
        "\n",
        "(100, 100)"
       ]
      },
      {
       "output_type": "stream",
       "stream": "stdout",
       "text": [
        "\n",
        "(100, 100)"
       ]
      },
      {
       "output_type": "stream",
       "stream": "stdout",
       "text": [
        "\n",
        "(100, 100)"
       ]
      },
      {
       "output_type": "stream",
       "stream": "stdout",
       "text": [
        "\n",
        "(100, 100)"
       ]
      },
      {
       "output_type": "stream",
       "stream": "stdout",
       "text": [
        "\n",
        "(100, 100)"
       ]
      },
      {
       "output_type": "stream",
       "stream": "stdout",
       "text": [
        "\n",
        "(100, 100)"
       ]
      },
      {
       "output_type": "stream",
       "stream": "stdout",
       "text": [
        "\n",
        "(100, 100)"
       ]
      },
      {
       "output_type": "stream",
       "stream": "stdout",
       "text": [
        "\n",
        "(100, 100)"
       ]
      },
      {
       "output_type": "stream",
       "stream": "stdout",
       "text": [
        "\n",
        "(100, 100)"
       ]
      },
      {
       "output_type": "stream",
       "stream": "stdout",
       "text": [
        "\n",
        "(100, 100)"
       ]
      },
      {
       "output_type": "stream",
       "stream": "stdout",
       "text": [
        "\n",
        "(100, 100)"
       ]
      },
      {
       "output_type": "stream",
       "stream": "stdout",
       "text": [
        "\n",
        "(100, 100)"
       ]
      },
      {
       "output_type": "stream",
       "stream": "stdout",
       "text": [
        "\n",
        "(100, 100)"
       ]
      },
      {
       "output_type": "stream",
       "stream": "stdout",
       "text": [
        "\n",
        "(100, 100)"
       ]
      },
      {
       "output_type": "stream",
       "stream": "stdout",
       "text": [
        "\n",
        "(100, 100)"
       ]
      },
      {
       "output_type": "stream",
       "stream": "stdout",
       "text": [
        "\n",
        "(100, 100)"
       ]
      },
      {
       "output_type": "stream",
       "stream": "stdout",
       "text": [
        "\n",
        "(100, 100)"
       ]
      },
      {
       "output_type": "stream",
       "stream": "stdout",
       "text": [
        "\n",
        "(100, 100)"
       ]
      },
      {
       "output_type": "stream",
       "stream": "stdout",
       "text": [
        "\n",
        "(100, 100)"
       ]
      },
      {
       "output_type": "stream",
       "stream": "stdout",
       "text": [
        "\n",
        "(100, 100)"
       ]
      },
      {
       "output_type": "stream",
       "stream": "stdout",
       "text": [
        "\n",
        "(100, 100)"
       ]
      },
      {
       "output_type": "stream",
       "stream": "stdout",
       "text": [
        "\n",
        "(100, 100)"
       ]
      },
      {
       "output_type": "stream",
       "stream": "stdout",
       "text": [
        "\n",
        "(100, 100)"
       ]
      },
      {
       "output_type": "stream",
       "stream": "stdout",
       "text": [
        "\n",
        "(100, 100)"
       ]
      },
      {
       "output_type": "stream",
       "stream": "stdout",
       "text": [
        "\n",
        "(100, 100)"
       ]
      },
      {
       "output_type": "stream",
       "stream": "stdout",
       "text": [
        "\n",
        "(100, 100)"
       ]
      },
      {
       "output_type": "stream",
       "stream": "stdout",
       "text": [
        "\n",
        "(100, 100)"
       ]
      },
      {
       "output_type": "stream",
       "stream": "stdout",
       "text": [
        "\n",
        "(100, 100)"
       ]
      },
      {
       "output_type": "stream",
       "stream": "stdout",
       "text": [
        "\n",
        "(100, 100)"
       ]
      },
      {
       "output_type": "stream",
       "stream": "stdout",
       "text": [
        "\n",
        "(100, 100)"
       ]
      },
      {
       "output_type": "stream",
       "stream": "stdout",
       "text": [
        "\n",
        "(100, 100)"
       ]
      },
      {
       "output_type": "stream",
       "stream": "stdout",
       "text": [
        "\n",
        "(100, 100)"
       ]
      },
      {
       "output_type": "stream",
       "stream": "stdout",
       "text": [
        "\n",
        "(100, 100)"
       ]
      },
      {
       "output_type": "stream",
       "stream": "stdout",
       "text": [
        "\n",
        "(100, 100)"
       ]
      },
      {
       "output_type": "stream",
       "stream": "stdout",
       "text": [
        "\n",
        "(100, 100)"
       ]
      },
      {
       "output_type": "stream",
       "stream": "stdout",
       "text": [
        "\n",
        "(100, 100)"
       ]
      },
      {
       "output_type": "stream",
       "stream": "stdout",
       "text": [
        "\n",
        "(100, 100)"
       ]
      },
      {
       "output_type": "stream",
       "stream": "stdout",
       "text": [
        "\n",
        "(100, 100)"
       ]
      },
      {
       "output_type": "stream",
       "stream": "stdout",
       "text": [
        "\n",
        "(100, 100)"
       ]
      },
      {
       "output_type": "stream",
       "stream": "stdout",
       "text": [
        "\n",
        "(100, 100)"
       ]
      },
      {
       "output_type": "stream",
       "stream": "stdout",
       "text": [
        "\n",
        "(100, 100)"
       ]
      },
      {
       "output_type": "stream",
       "stream": "stdout",
       "text": [
        "\n",
        "(100, 100)"
       ]
      },
      {
       "output_type": "stream",
       "stream": "stdout",
       "text": [
        "\n",
        "(100, 100)"
       ]
      },
      {
       "output_type": "stream",
       "stream": "stdout",
       "text": [
        "\n",
        "(100, 100)"
       ]
      },
      {
       "output_type": "stream",
       "stream": "stdout",
       "text": [
        "\n",
        "(100, 100)"
       ]
      },
      {
       "output_type": "stream",
       "stream": "stdout",
       "text": [
        "\n",
        "(100, 100)"
       ]
      },
      {
       "output_type": "stream",
       "stream": "stdout",
       "text": [
        "\n",
        "(100, 100)"
       ]
      },
      {
       "output_type": "stream",
       "stream": "stdout",
       "text": [
        "\n",
        "(100, 100)"
       ]
      },
      {
       "output_type": "stream",
       "stream": "stdout",
       "text": [
        "\n",
        "(100, 100)"
       ]
      },
      {
       "output_type": "stream",
       "stream": "stdout",
       "text": [
        "\n",
        "(100, 100)"
       ]
      },
      {
       "output_type": "stream",
       "stream": "stdout",
       "text": [
        "\n",
        "(100, 100)"
       ]
      },
      {
       "output_type": "stream",
       "stream": "stdout",
       "text": [
        "\n",
        "(100, 100)"
       ]
      },
      {
       "output_type": "stream",
       "stream": "stdout",
       "text": [
        "\n",
        "(100, 100)"
       ]
      },
      {
       "output_type": "stream",
       "stream": "stdout",
       "text": [
        "\n",
        "(100, 100)"
       ]
      },
      {
       "output_type": "stream",
       "stream": "stdout",
       "text": [
        "\n",
        "(100, 100)"
       ]
      },
      {
       "output_type": "stream",
       "stream": "stdout",
       "text": [
        "\n"
       ]
      }
     ],
     "prompt_number": 46
    },
    {
     "cell_type": "code",
     "collapsed": false,
     "input": [
      "-isnan(DEM_subframe).any()"
     ],
     "language": "python",
     "metadata": {},
     "outputs": [
      {
       "output_type": "pyout",
       "prompt_number": 43,
       "text": [
        "True"
       ]
      }
     ],
     "prompt_number": 43
    },
    {
     "cell_type": "code",
     "collapsed": false,
     "input": [
      "reshape?"
     ],
     "language": "python",
     "metadata": {},
     "outputs": [],
     "prompt_number": 34
    },
    {
     "cell_type": "code",
     "collapsed": false,
     "input": [],
     "language": "python",
     "metadata": {},
     "outputs": []
    }
   ],
   "metadata": {}
  }
 ]
}